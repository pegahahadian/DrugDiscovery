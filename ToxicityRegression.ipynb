{
 "cells": [
  {
   "cell_type": "code",
   "execution_count": 1,
   "id": "b6ce05ab-0e5e-410e-b961-6b278436ed01",
   "metadata": {},
   "outputs": [
    {
     "name": "stdout",
     "output_type": "stream",
     "text": [
      "Requirement already satisfied: PyTDC in c:\\users\\pahad\\appdata\\local\\programs\\python\\python311\\lib\\site-packages (0.4.1)\n",
      "Requirement already satisfied: rdkit-pypi in c:\\users\\pahad\\appdata\\local\\programs\\python\\python311\\lib\\site-packages (from PyTDC) (2022.9.5)\n",
      "Requirement already satisfied: fuzzywuzzy in c:\\users\\pahad\\appdata\\local\\programs\\python\\python311\\lib\\site-packages (from PyTDC) (0.18.0)\n",
      "Requirement already satisfied: numpy in c:\\users\\pahad\\appdata\\local\\programs\\python\\python311\\lib\\site-packages (from PyTDC) (1.23.5)\n",
      "Requirement already satisfied: pandas in c:\\users\\pahad\\appdata\\local\\programs\\python\\python311\\lib\\site-packages (from PyTDC) (2.1.3)\n",
      "Requirement already satisfied: tqdm in c:\\users\\pahad\\appdata\\local\\programs\\python\\python311\\lib\\site-packages (from PyTDC) (4.66.1)\n",
      "Requirement already satisfied: scikit-learn in c:\\users\\pahad\\appdata\\local\\programs\\python\\python311\\lib\\site-packages (from PyTDC) (1.3.2)\n",
      "Requirement already satisfied: seaborn in c:\\users\\pahad\\appdata\\local\\programs\\python\\python311\\lib\\site-packages (from PyTDC) (0.13.0)\n",
      "Requirement already satisfied: requests in c:\\users\\pahad\\appdata\\local\\programs\\python\\python311\\lib\\site-packages (from PyTDC) (2.31.0)\n",
      "Requirement already satisfied: huggingface-hub in c:\\users\\pahad\\appdata\\local\\programs\\python\\python311\\lib\\site-packages (from PyTDC) (0.20.2)\n",
      "Requirement already satisfied: dataclasses in c:\\users\\pahad\\appdata\\local\\programs\\python\\python311\\lib\\site-packages (from PyTDC) (0.6)\n",
      "Requirement already satisfied: filelock in c:\\users\\pahad\\appdata\\local\\programs\\python\\python311\\lib\\site-packages (from huggingface-hub->PyTDC) (3.13.1)\n",
      "Requirement already satisfied: fsspec>=2023.5.0 in c:\\users\\pahad\\appdata\\local\\programs\\python\\python311\\lib\\site-packages (from huggingface-hub->PyTDC) (2023.12.2)\n",
      "Requirement already satisfied: pyyaml>=5.1 in c:\\users\\pahad\\appdata\\local\\programs\\python\\python311\\lib\\site-packages (from huggingface-hub->PyTDC) (6.0.1)\n",
      "Requirement already satisfied: typing-extensions>=3.7.4.3 in c:\\users\\pahad\\appdata\\local\\programs\\python\\python311\\lib\\site-packages (from huggingface-hub->PyTDC) (4.8.0)\n",
      "Requirement already satisfied: packaging>=20.9 in c:\\users\\pahad\\appdata\\local\\programs\\python\\python311\\lib\\site-packages (from huggingface-hub->PyTDC) (23.2)\n",
      "Requirement already satisfied: colorama in c:\\users\\pahad\\appdata\\local\\programs\\python\\python311\\lib\\site-packages (from tqdm->PyTDC) (0.4.6)\n",
      "Requirement already satisfied: python-dateutil>=2.8.2 in c:\\users\\pahad\\appdata\\local\\programs\\python\\python311\\lib\\site-packages (from pandas->PyTDC) (2.8.2)\n",
      "Requirement already satisfied: pytz>=2020.1 in c:\\users\\pahad\\appdata\\local\\programs\\python\\python311\\lib\\site-packages (from pandas->PyTDC) (2023.3.post1)\n",
      "Requirement already satisfied: tzdata>=2022.1 in c:\\users\\pahad\\appdata\\local\\programs\\python\\python311\\lib\\site-packages (from pandas->PyTDC) (2023.3)\n",
      "Requirement already satisfied: Pillow in c:\\users\\pahad\\appdata\\local\\programs\\python\\python311\\lib\\site-packages (from rdkit-pypi->PyTDC) (10.1.0)\n",
      "Requirement already satisfied: charset-normalizer<4,>=2 in c:\\users\\pahad\\appdata\\local\\programs\\python\\python311\\lib\\site-packages (from requests->PyTDC) (3.3.2)\n",
      "Requirement already satisfied: idna<4,>=2.5 in c:\\users\\pahad\\appdata\\local\\programs\\python\\python311\\lib\\site-packages (from requests->PyTDC) (3.6)\n",
      "Requirement already satisfied: urllib3<3,>=1.21.1 in c:\\users\\pahad\\appdata\\local\\programs\\python\\python311\\lib\\site-packages (from requests->PyTDC) (2.1.0)\n",
      "Requirement already satisfied: certifi>=2017.4.17 in c:\\users\\pahad\\appdata\\local\\programs\\python\\python311\\lib\\site-packages (from requests->PyTDC) (2023.11.17)\n",
      "Requirement already satisfied: scipy>=1.5.0 in c:\\users\\pahad\\appdata\\local\\programs\\python\\python311\\lib\\site-packages (from scikit-learn->PyTDC) (1.11.4)\n",
      "Requirement already satisfied: joblib>=1.1.1 in c:\\users\\pahad\\appdata\\local\\programs\\python\\python311\\lib\\site-packages (from scikit-learn->PyTDC) (1.3.2)\n",
      "Requirement already satisfied: threadpoolctl>=2.0.0 in c:\\users\\pahad\\appdata\\local\\programs\\python\\python311\\lib\\site-packages (from scikit-learn->PyTDC) (3.2.0)\n",
      "Requirement already satisfied: matplotlib!=3.6.1,>=3.3 in c:\\users\\pahad\\appdata\\local\\programs\\python\\python311\\lib\\site-packages (from seaborn->PyTDC) (3.8.2)\n",
      "Requirement already satisfied: contourpy>=1.0.1 in c:\\users\\pahad\\appdata\\local\\programs\\python\\python311\\lib\\site-packages (from matplotlib!=3.6.1,>=3.3->seaborn->PyTDC) (1.2.0)\n",
      "Requirement already satisfied: cycler>=0.10 in c:\\users\\pahad\\appdata\\local\\programs\\python\\python311\\lib\\site-packages (from matplotlib!=3.6.1,>=3.3->seaborn->PyTDC) (0.12.1)\n",
      "Requirement already satisfied: fonttools>=4.22.0 in c:\\users\\pahad\\appdata\\local\\programs\\python\\python311\\lib\\site-packages (from matplotlib!=3.6.1,>=3.3->seaborn->PyTDC) (4.45.1)\n",
      "Requirement already satisfied: kiwisolver>=1.3.1 in c:\\users\\pahad\\appdata\\local\\programs\\python\\python311\\lib\\site-packages (from matplotlib!=3.6.1,>=3.3->seaborn->PyTDC) (1.4.5)\n",
      "Requirement already satisfied: pyparsing>=2.3.1 in c:\\users\\pahad\\appdata\\local\\programs\\python\\python311\\lib\\site-packages (from matplotlib!=3.6.1,>=3.3->seaborn->PyTDC) (3.1.1)\n",
      "Requirement already satisfied: six>=1.5 in c:\\users\\pahad\\appdata\\local\\programs\\python\\python311\\lib\\site-packages (from python-dateutil>=2.8.2->pandas->PyTDC) (1.16.0)\n"
     ]
    },
    {
     "name": "stderr",
     "output_type": "stream",
     "text": [
      "\n",
      "[notice] A new release of pip is available: 23.3.1 -> 23.3.2\n",
      "[notice] To update, run: C:\\Users\\pahad\\AppData\\Local\\Programs\\Python\\Python311\\python.exe -m pip install --upgrade pip\n"
     ]
    }
   ],
   "source": [
    "!pip install PyTDC"
   ]
  },
  {
   "cell_type": "code",
   "execution_count": 2,
   "id": "5fc2de67-114e-42c9-8174-dac84751b8f7",
   "metadata": {},
   "outputs": [
    {
     "name": "stdout",
     "output_type": "stream",
     "text": [
      "Requirement already satisfied: tensorflow in c:\\users\\pahad\\appdata\\local\\programs\\python\\python311\\lib\\site-packages (2.12.0)\n",
      "Requirement already satisfied: deepchem in c:\\users\\pahad\\appdata\\local\\programs\\python\\python311\\lib\\site-packages (2.5.0)\n",
      "Requirement already satisfied: tensorflow-intel==2.12.0 in c:\\users\\pahad\\appdata\\local\\programs\\python\\python311\\lib\\site-packages (from tensorflow) (2.12.0)\n",
      "Requirement already satisfied: absl-py>=1.0.0 in c:\\users\\pahad\\appdata\\local\\programs\\python\\python311\\lib\\site-packages (from tensorflow-intel==2.12.0->tensorflow) (2.0.0)\n",
      "Requirement already satisfied: astunparse>=1.6.0 in c:\\users\\pahad\\appdata\\local\\programs\\python\\python311\\lib\\site-packages (from tensorflow-intel==2.12.0->tensorflow) (1.6.3)\n",
      "Requirement already satisfied: flatbuffers>=2.0 in c:\\users\\pahad\\appdata\\local\\programs\\python\\python311\\lib\\site-packages (from tensorflow-intel==2.12.0->tensorflow) (23.5.26)\n",
      "Requirement already satisfied: gast<=0.4.0,>=0.2.1 in c:\\users\\pahad\\appdata\\local\\programs\\python\\python311\\lib\\site-packages (from tensorflow-intel==2.12.0->tensorflow) (0.4.0)\n",
      "Requirement already satisfied: google-pasta>=0.1.1 in c:\\users\\pahad\\appdata\\local\\programs\\python\\python311\\lib\\site-packages (from tensorflow-intel==2.12.0->tensorflow) (0.2.0)\n",
      "Requirement already satisfied: h5py>=2.9.0 in c:\\users\\pahad\\appdata\\local\\programs\\python\\python311\\lib\\site-packages (from tensorflow-intel==2.12.0->tensorflow) (3.10.0)\n",
      "Requirement already satisfied: jax>=0.3.15 in c:\\users\\pahad\\appdata\\local\\programs\\python\\python311\\lib\\site-packages (from tensorflow-intel==2.12.0->tensorflow) (0.4.21)\n",
      "Requirement already satisfied: libclang>=13.0.0 in c:\\users\\pahad\\appdata\\local\\programs\\python\\python311\\lib\\site-packages (from tensorflow-intel==2.12.0->tensorflow) (16.0.6)\n",
      "Requirement already satisfied: numpy<1.24,>=1.22 in c:\\users\\pahad\\appdata\\local\\programs\\python\\python311\\lib\\site-packages (from tensorflow-intel==2.12.0->tensorflow) (1.23.5)\n",
      "Requirement already satisfied: opt-einsum>=2.3.2 in c:\\users\\pahad\\appdata\\local\\programs\\python\\python311\\lib\\site-packages (from tensorflow-intel==2.12.0->tensorflow) (3.3.0)\n",
      "Requirement already satisfied: packaging in c:\\users\\pahad\\appdata\\local\\programs\\python\\python311\\lib\\site-packages (from tensorflow-intel==2.12.0->tensorflow) (23.2)\n",
      "Requirement already satisfied: protobuf!=4.21.0,!=4.21.1,!=4.21.2,!=4.21.3,!=4.21.4,!=4.21.5,<5.0.0dev,>=3.20.3 in c:\\users\\pahad\\appdata\\local\\programs\\python\\python311\\lib\\site-packages (from tensorflow-intel==2.12.0->tensorflow) (3.20.3)\n",
      "Requirement already satisfied: setuptools in c:\\users\\pahad\\appdata\\local\\programs\\python\\python311\\lib\\site-packages (from tensorflow-intel==2.12.0->tensorflow) (65.5.0)\n",
      "Requirement already satisfied: six>=1.12.0 in c:\\users\\pahad\\appdata\\local\\programs\\python\\python311\\lib\\site-packages (from tensorflow-intel==2.12.0->tensorflow) (1.16.0)\n",
      "Requirement already satisfied: termcolor>=1.1.0 in c:\\users\\pahad\\appdata\\local\\programs\\python\\python311\\lib\\site-packages (from tensorflow-intel==2.12.0->tensorflow) (2.3.0)\n",
      "Requirement already satisfied: typing-extensions>=3.6.6 in c:\\users\\pahad\\appdata\\local\\programs\\python\\python311\\lib\\site-packages (from tensorflow-intel==2.12.0->tensorflow) (4.8.0)\n",
      "Requirement already satisfied: wrapt<1.15,>=1.11.0 in c:\\users\\pahad\\appdata\\local\\programs\\python\\python311\\lib\\site-packages (from tensorflow-intel==2.12.0->tensorflow) (1.14.1)\n",
      "Requirement already satisfied: grpcio<2.0,>=1.24.3 in c:\\users\\pahad\\appdata\\local\\programs\\python\\python311\\lib\\site-packages (from tensorflow-intel==2.12.0->tensorflow) (1.59.3)\n",
      "Requirement already satisfied: tensorboard<2.13,>=2.12 in c:\\users\\pahad\\appdata\\local\\programs\\python\\python311\\lib\\site-packages (from tensorflow-intel==2.12.0->tensorflow) (2.12.3)\n",
      "Requirement already satisfied: tensorflow-estimator<2.13,>=2.12.0 in c:\\users\\pahad\\appdata\\local\\programs\\python\\python311\\lib\\site-packages (from tensorflow-intel==2.12.0->tensorflow) (2.12.0)\n",
      "Requirement already satisfied: keras<2.13,>=2.12.0 in c:\\users\\pahad\\appdata\\local\\programs\\python\\python311\\lib\\site-packages (from tensorflow-intel==2.12.0->tensorflow) (2.12.0)\n",
      "Requirement already satisfied: tensorflow-io-gcs-filesystem>=0.23.1 in c:\\users\\pahad\\appdata\\local\\programs\\python\\python311\\lib\\site-packages (from tensorflow-intel==2.12.0->tensorflow) (0.31.0)\n",
      "Requirement already satisfied: joblib in c:\\users\\pahad\\appdata\\local\\programs\\python\\python311\\lib\\site-packages (from deepchem) (1.3.2)\n",
      "Requirement already satisfied: pandas in c:\\users\\pahad\\appdata\\local\\programs\\python\\python311\\lib\\site-packages (from deepchem) (2.1.3)\n",
      "Requirement already satisfied: scikit-learn in c:\\users\\pahad\\appdata\\local\\programs\\python\\python311\\lib\\site-packages (from deepchem) (1.3.2)\n",
      "Requirement already satisfied: scipy in c:\\users\\pahad\\appdata\\local\\programs\\python\\python311\\lib\\site-packages (from deepchem) (1.11.4)\n",
      "Requirement already satisfied: python-dateutil>=2.8.2 in c:\\users\\pahad\\appdata\\local\\programs\\python\\python311\\lib\\site-packages (from pandas->deepchem) (2.8.2)\n",
      "Requirement already satisfied: pytz>=2020.1 in c:\\users\\pahad\\appdata\\local\\programs\\python\\python311\\lib\\site-packages (from pandas->deepchem) (2023.3.post1)\n",
      "Requirement already satisfied: tzdata>=2022.1 in c:\\users\\pahad\\appdata\\local\\programs\\python\\python311\\lib\\site-packages (from pandas->deepchem) (2023.3)\n",
      "Requirement already satisfied: threadpoolctl>=2.0.0 in c:\\users\\pahad\\appdata\\local\\programs\\python\\python311\\lib\\site-packages (from scikit-learn->deepchem) (3.2.0)\n",
      "Requirement already satisfied: wheel<1.0,>=0.23.0 in c:\\users\\pahad\\appdata\\local\\programs\\python\\python311\\lib\\site-packages (from astunparse>=1.6.0->tensorflow-intel==2.12.0->tensorflow) (0.42.0)\n",
      "Requirement already satisfied: ml-dtypes>=0.2.0 in c:\\users\\pahad\\appdata\\local\\programs\\python\\python311\\lib\\site-packages (from jax>=0.3.15->tensorflow-intel==2.12.0->tensorflow) (0.2.0)\n",
      "Requirement already satisfied: google-auth<3,>=1.6.3 in c:\\users\\pahad\\appdata\\local\\programs\\python\\python311\\lib\\site-packages (from tensorboard<2.13,>=2.12->tensorflow-intel==2.12.0->tensorflow) (2.23.4)\n",
      "Requirement already satisfied: google-auth-oauthlib<1.1,>=0.5 in c:\\users\\pahad\\appdata\\local\\programs\\python\\python311\\lib\\site-packages (from tensorboard<2.13,>=2.12->tensorflow-intel==2.12.0->tensorflow) (1.0.0)\n",
      "Requirement already satisfied: markdown>=2.6.8 in c:\\users\\pahad\\appdata\\local\\programs\\python\\python311\\lib\\site-packages (from tensorboard<2.13,>=2.12->tensorflow-intel==2.12.0->tensorflow) (3.5.1)\n",
      "Requirement already satisfied: requests<3,>=2.21.0 in c:\\users\\pahad\\appdata\\local\\programs\\python\\python311\\lib\\site-packages (from tensorboard<2.13,>=2.12->tensorflow-intel==2.12.0->tensorflow) (2.31.0)\n",
      "Requirement already satisfied: tensorboard-data-server<0.8.0,>=0.7.0 in c:\\users\\pahad\\appdata\\local\\programs\\python\\python311\\lib\\site-packages (from tensorboard<2.13,>=2.12->tensorflow-intel==2.12.0->tensorflow) (0.7.2)\n",
      "Requirement already satisfied: werkzeug>=1.0.1 in c:\\users\\pahad\\appdata\\local\\programs\\python\\python311\\lib\\site-packages (from tensorboard<2.13,>=2.12->tensorflow-intel==2.12.0->tensorflow) (3.0.1)\n",
      "Requirement already satisfied: cachetools<6.0,>=2.0.0 in c:\\users\\pahad\\appdata\\local\\programs\\python\\python311\\lib\\site-packages (from google-auth<3,>=1.6.3->tensorboard<2.13,>=2.12->tensorflow-intel==2.12.0->tensorflow) (5.3.2)\n",
      "Requirement already satisfied: pyasn1-modules>=0.2.1 in c:\\users\\pahad\\appdata\\local\\programs\\python\\python311\\lib\\site-packages (from google-auth<3,>=1.6.3->tensorboard<2.13,>=2.12->tensorflow-intel==2.12.0->tensorflow) (0.3.0)\n",
      "Requirement already satisfied: rsa<5,>=3.1.4 in c:\\users\\pahad\\appdata\\local\\programs\\python\\python311\\lib\\site-packages (from google-auth<3,>=1.6.3->tensorboard<2.13,>=2.12->tensorflow-intel==2.12.0->tensorflow) (4.9)\n",
      "Requirement already satisfied: requests-oauthlib>=0.7.0 in c:\\users\\pahad\\appdata\\local\\programs\\python\\python311\\lib\\site-packages (from google-auth-oauthlib<1.1,>=0.5->tensorboard<2.13,>=2.12->tensorflow-intel==2.12.0->tensorflow) (1.3.1)\n",
      "Requirement already satisfied: charset-normalizer<4,>=2 in c:\\users\\pahad\\appdata\\local\\programs\\python\\python311\\lib\\site-packages (from requests<3,>=2.21.0->tensorboard<2.13,>=2.12->tensorflow-intel==2.12.0->tensorflow) (3.3.2)\n",
      "Requirement already satisfied: idna<4,>=2.5 in c:\\users\\pahad\\appdata\\local\\programs\\python\\python311\\lib\\site-packages (from requests<3,>=2.21.0->tensorboard<2.13,>=2.12->tensorflow-intel==2.12.0->tensorflow) (3.6)\n",
      "Requirement already satisfied: urllib3<3,>=1.21.1 in c:\\users\\pahad\\appdata\\local\\programs\\python\\python311\\lib\\site-packages (from requests<3,>=2.21.0->tensorboard<2.13,>=2.12->tensorflow-intel==2.12.0->tensorflow) (2.1.0)\n",
      "Requirement already satisfied: certifi>=2017.4.17 in c:\\users\\pahad\\appdata\\local\\programs\\python\\python311\\lib\\site-packages (from requests<3,>=2.21.0->tensorboard<2.13,>=2.12->tensorflow-intel==2.12.0->tensorflow) (2023.11.17)\n",
      "Requirement already satisfied: MarkupSafe>=2.1.1 in c:\\users\\pahad\\appdata\\local\\programs\\python\\python311\\lib\\site-packages (from werkzeug>=1.0.1->tensorboard<2.13,>=2.12->tensorflow-intel==2.12.0->tensorflow) (2.1.3)\n",
      "Requirement already satisfied: pyasn1<0.6.0,>=0.4.6 in c:\\users\\pahad\\appdata\\local\\programs\\python\\python311\\lib\\site-packages (from pyasn1-modules>=0.2.1->google-auth<3,>=1.6.3->tensorboard<2.13,>=2.12->tensorflow-intel==2.12.0->tensorflow) (0.5.1)\n",
      "Requirement already satisfied: oauthlib>=3.0.0 in c:\\users\\pahad\\appdata\\local\\programs\\python\\python311\\lib\\site-packages (from requests-oauthlib>=0.7.0->google-auth-oauthlib<1.1,>=0.5->tensorboard<2.13,>=2.12->tensorflow-intel==2.12.0->tensorflow) (3.2.2)\n"
     ]
    },
    {
     "name": "stderr",
     "output_type": "stream",
     "text": [
      "\n",
      "[notice] A new release of pip is available: 23.3.1 -> 23.3.2\n",
      "[notice] To update, run: C:\\Users\\pahad\\AppData\\Local\\Programs\\Python\\Python311\\python.exe -m pip install --upgrade pip\n"
     ]
    }
   ],
   "source": [
    "!pip install tensorflow deepchem"
   ]
  },
  {
   "cell_type": "code",
   "execution_count": 3,
   "id": "744a4125-4a1c-4ae4-9ce0-934820d92d65",
   "metadata": {},
   "outputs": [],
   "source": [
    "from tdc import utils\n",
    "names = utils.retrieve_benchmark_names('ADMET_Group')"
   ]
  },
  {
   "cell_type": "code",
   "execution_count": 4,
   "id": "3e371610-8d8e-4206-b9be-26aea906e753",
   "metadata": {},
   "outputs": [
    {
     "name": "stderr",
     "output_type": "stream",
     "text": [
      "Found local copy...\n",
      "Loading...\n",
      "Done!\n"
     ]
    },
    {
     "name": "stdout",
     "output_type": "stream",
     "text": [
      "Train features shape: (5170,)\n",
      "Test features shape: (1477,)\n"
     ]
    }
   ],
   "source": [
    "import deepchem as dc\n",
    "from tdc.single_pred import ADME\n",
    "from tdc.single_pred import Tox\n",
    "\n",
    "# Load the dataset 7,385 drugs.\n",
    "data = Tox(name = 'LD50_Zhu')\n",
    "split = data.get_split()\n",
    "\n",
    "\n",
    "# Featurize data\n",
    "featurizer = dc.feat.OneHotFeaturizer()\n",
    "train_features = featurizer.featurize(split['train']['Drug'])\n",
    "test_features = featurizer.featurize(split['test']['Drug'])\n",
    "\n",
    "# Inspect the shape of the features\n",
    "print(\"Train features shape:\", train_features.shape)\n",
    "print(\"Test features shape:\", test_features.shape)"
   ]
  },
  {
   "cell_type": "code",
   "execution_count": 5,
   "id": "90828f45-e0e3-4ee5-9188-6322351dac11",
   "metadata": {},
   "outputs": [
    {
     "name": "stdout",
     "output_type": "stream",
     "text": [
      "Train features shape: (5170, 174)\n",
      "Test features shape: (1477, 174)\n"
     ]
    }
   ],
   "source": [
    "from tensorflow.keras.preprocessing.text import Tokenizer\n",
    "from tensorflow.keras.preprocessing.sequence import pad_sequences\n",
    "import numpy as np\n",
    "\n",
    "# Function to convert SMILES to one-hot encoded sequences\n",
    "def one_hot_smiles(smiles_list, max_length):\n",
    "    tokenizer = Tokenizer(char_level=True)\n",
    "    tokenizer.fit_on_texts(smiles_list)\n",
    "    sequences = tokenizer.texts_to_sequences(smiles_list)\n",
    "    one_hot = pad_sequences(sequences, maxlen=max_length, padding='post')\n",
    "    return one_hot, tokenizer.word_index\n",
    "\n",
    "# Determine max length for padding\n",
    "max_smiles_length = max(len(s) for s in split['train']['Drug'])\n",
    "\n",
    "# Apply one-hot encoding\n",
    "train_smiles = split['train']['Drug']\n",
    "test_smiles = split['test']['Drug']\n",
    "train_features, _ = one_hot_smiles(train_smiles, max_smiles_length)\n",
    "test_features, _ = one_hot_smiles(test_smiles, max_smiles_length)\n",
    "\n",
    "print(\"Train features shape:\", train_features.shape)\n",
    "print(\"Test features shape:\", test_features.shape)\n"
   ]
  },
  {
   "cell_type": "code",
   "execution_count": 6,
   "id": "905ece3a-0d65-471e-ac57-7531d1511e01",
   "metadata": {},
   "outputs": [],
   "source": [
    "train_labels = split['train']['Y']\n",
    "test_labels = split['test']['Y']"
   ]
  },
  {
   "cell_type": "code",
   "execution_count": 10,
   "id": "61ac510d-7742-4deb-a60b-499fe8f8dca7",
   "metadata": {},
   "outputs": [],
   "source": [
    "from sklearn.ensemble import RandomForestRegressor\n",
    "from sklearn.metrics import mean_squared_error\n",
    "\n",
    "# Initialize the Random Forest Regressor\n",
    "rf_regressor = RandomForestRegressor(n_estimators=100, random_state=42)\n",
    "\n",
    "# Train the model\n",
    "rf_regressor.fit(train_features, train_labels)\n",
    "\n",
    "# Predict on the test set\n",
    "rf_predictions = rf_regressor.predict(test_features)"
   ]
  },
  {
   "cell_type": "code",
   "execution_count": 8,
   "id": "8aceddab-cb9a-45c7-a5c3-161b7cadd7cb",
   "metadata": {},
   "outputs": [
    {
     "name": "stdout",
     "output_type": "stream",
     "text": [
      "Mean Squared Error: 0.482347460685289\n",
      "Root Mean Squared Error: 0.6945123905916215\n"
     ]
    }
   ],
   "source": [
    "# Calculate MSE and RMSE\n",
    "mse = mean_squared_error(test_labels, rf_predictions)\n",
    "rmse = mse ** 0.5\n",
    "print(f\"Mean Squared Error: {mse}\")\n",
    "print(f\"Root Mean Squared Error: {rmse}\")\n"
   ]
  },
  {
   "cell_type": "code",
   "execution_count": 13,
   "id": "05216757-39a4-4725-b8a3-47c2e2539b14",
   "metadata": {},
   "outputs": [
    {
     "name": "stdout",
     "output_type": "stream",
     "text": [
      "Train features shape: (5170, 2048)\n",
      "Test features shape: (1477, 2048)\n"
     ]
    },
    {
     "data": {
      "text/html": [
       "<style>#sk-container-id-1 {color: black;}#sk-container-id-1 pre{padding: 0;}#sk-container-id-1 div.sk-toggleable {background-color: white;}#sk-container-id-1 label.sk-toggleable__label {cursor: pointer;display: block;width: 100%;margin-bottom: 0;padding: 0.3em;box-sizing: border-box;text-align: center;}#sk-container-id-1 label.sk-toggleable__label-arrow:before {content: \"▸\";float: left;margin-right: 0.25em;color: #696969;}#sk-container-id-1 label.sk-toggleable__label-arrow:hover:before {color: black;}#sk-container-id-1 div.sk-estimator:hover label.sk-toggleable__label-arrow:before {color: black;}#sk-container-id-1 div.sk-toggleable__content {max-height: 0;max-width: 0;overflow: hidden;text-align: left;background-color: #f0f8ff;}#sk-container-id-1 div.sk-toggleable__content pre {margin: 0.2em;color: black;border-radius: 0.25em;background-color: #f0f8ff;}#sk-container-id-1 input.sk-toggleable__control:checked~div.sk-toggleable__content {max-height: 200px;max-width: 100%;overflow: auto;}#sk-container-id-1 input.sk-toggleable__control:checked~label.sk-toggleable__label-arrow:before {content: \"▾\";}#sk-container-id-1 div.sk-estimator input.sk-toggleable__control:checked~label.sk-toggleable__label {background-color: #d4ebff;}#sk-container-id-1 div.sk-label input.sk-toggleable__control:checked~label.sk-toggleable__label {background-color: #d4ebff;}#sk-container-id-1 input.sk-hidden--visually {border: 0;clip: rect(1px 1px 1px 1px);clip: rect(1px, 1px, 1px, 1px);height: 1px;margin: -1px;overflow: hidden;padding: 0;position: absolute;width: 1px;}#sk-container-id-1 div.sk-estimator {font-family: monospace;background-color: #f0f8ff;border: 1px dotted black;border-radius: 0.25em;box-sizing: border-box;margin-bottom: 0.5em;}#sk-container-id-1 div.sk-estimator:hover {background-color: #d4ebff;}#sk-container-id-1 div.sk-parallel-item::after {content: \"\";width: 100%;border-bottom: 1px solid gray;flex-grow: 1;}#sk-container-id-1 div.sk-label:hover label.sk-toggleable__label {background-color: #d4ebff;}#sk-container-id-1 div.sk-serial::before {content: \"\";position: absolute;border-left: 1px solid gray;box-sizing: border-box;top: 0;bottom: 0;left: 50%;z-index: 0;}#sk-container-id-1 div.sk-serial {display: flex;flex-direction: column;align-items: center;background-color: white;padding-right: 0.2em;padding-left: 0.2em;position: relative;}#sk-container-id-1 div.sk-item {position: relative;z-index: 1;}#sk-container-id-1 div.sk-parallel {display: flex;align-items: stretch;justify-content: center;background-color: white;position: relative;}#sk-container-id-1 div.sk-item::before, #sk-container-id-1 div.sk-parallel-item::before {content: \"\";position: absolute;border-left: 1px solid gray;box-sizing: border-box;top: 0;bottom: 0;left: 50%;z-index: -1;}#sk-container-id-1 div.sk-parallel-item {display: flex;flex-direction: column;z-index: 1;position: relative;background-color: white;}#sk-container-id-1 div.sk-parallel-item:first-child::after {align-self: flex-end;width: 50%;}#sk-container-id-1 div.sk-parallel-item:last-child::after {align-self: flex-start;width: 50%;}#sk-container-id-1 div.sk-parallel-item:only-child::after {width: 0;}#sk-container-id-1 div.sk-dashed-wrapped {border: 1px dashed gray;margin: 0 0.4em 0.5em 0.4em;box-sizing: border-box;padding-bottom: 0.4em;background-color: white;}#sk-container-id-1 div.sk-label label {font-family: monospace;font-weight: bold;display: inline-block;line-height: 1.2em;}#sk-container-id-1 div.sk-label-container {text-align: center;}#sk-container-id-1 div.sk-container {/* jupyter's `normalize.less` sets `[hidden] { display: none; }` but bootstrap.min.css set `[hidden] { display: none !important; }` so we also need the `!important` here to be able to override the default hidden behavior on the sphinx rendered scikit-learn.org. See: https://github.com/scikit-learn/scikit-learn/issues/21755 */display: inline-block !important;position: relative;}#sk-container-id-1 div.sk-text-repr-fallback {display: none;}</style><div id=\"sk-container-id-1\" class=\"sk-top-container\"><div class=\"sk-text-repr-fallback\"><pre>RandomForestRegressor(random_state=42)</pre><b>In a Jupyter environment, please rerun this cell to show the HTML representation or trust the notebook. <br />On GitHub, the HTML representation is unable to render, please try loading this page with nbviewer.org.</b></div><div class=\"sk-container\" hidden><div class=\"sk-item\"><div class=\"sk-estimator sk-toggleable\"><input class=\"sk-toggleable__control sk-hidden--visually\" id=\"sk-estimator-id-1\" type=\"checkbox\" checked><label for=\"sk-estimator-id-1\" class=\"sk-toggleable__label sk-toggleable__label-arrow\">RandomForestRegressor</label><div class=\"sk-toggleable__content\"><pre>RandomForestRegressor(random_state=42)</pre></div></div></div></div></div>"
      ],
      "text/plain": [
       "RandomForestRegressor(random_state=42)"
      ]
     },
     "execution_count": 13,
     "metadata": {},
     "output_type": "execute_result"
    }
   ],
   "source": [
    "from deepchem.feat import CircularFingerprint\n",
    "\n",
    "# Initialize the CircularFingerprint featurizer\n",
    "featurizer = CircularFingerprint(size=2048)  # You can adjust the size as needed\n",
    "\n",
    "# Featurize the data\n",
    "train_features = featurizer.featurize(split['train']['Drug'])\n",
    "test_features = featurizer.featurize(split['test']['Drug'])\n",
    "\n",
    "# Check the shape again\n",
    "print(\"Train features shape:\", train_features.shape)\n",
    "print(\"Test features shape:\", test_features.shape)\n",
    "\n",
    "# If the shapes are now correct, proceed with model training\n",
    "rf_regressor.fit(train_features, split['train']['Y'])\n"
   ]
  },
  {
   "cell_type": "code",
   "execution_count": 14,
   "id": "f837a8d4-0606-442f-b695-3d2be48c1664",
   "metadata": {},
   "outputs": [
    {
     "name": "stdout",
     "output_type": "stream",
     "text": [
      "Mean Squared Error (MSE): 0.37210263630074736\n",
      "Root Mean Squared Error (RMSE): 0.6100021608984245\n"
     ]
    }
   ],
   "source": [
    "from sklearn.ensemble import RandomForestRegressor\n",
    "from sklearn.metrics import mean_squared_error\n",
    "\n",
    "# Initialize the Random Forest Regressor\n",
    "rf_regressor = RandomForestRegressor(n_estimators=100, random_state=42)\n",
    "\n",
    "# Extract labels for training and testing\n",
    "train_labels = split['train']['Y']\n",
    "test_labels = split['test']['Y']\n",
    "\n",
    "# Train the model\n",
    "rf_regressor.fit(train_features, train_labels)\n",
    "\n",
    "# Predict on the test set\n",
    "rf_predictions = rf_regressor.predict(test_features)\n",
    "\n",
    "# Evaluate the model using Mean Squared Error (MSE) and Root Mean Squared Error (RMSE)\n",
    "mse = mean_squared_error(test_labels, rf_predictions)\n",
    "rmse = mse ** 0.5\n",
    "\n",
    "print(f\"Mean Squared Error (MSE): {mse}\")\n",
    "print(f\"Root Mean Squared Error (RMSE): {rmse}\")\n"
   ]
  },
  {
   "cell_type": "code",
   "execution_count": 15,
   "id": "caa23d5a-acc8-47bf-9734-8f2f3b4439f0",
   "metadata": {},
   "outputs": [
    {
     "name": "stdout",
     "output_type": "stream",
     "text": [
      "Fitting 5 folds for each of 324 candidates, totalling 1620 fits\n",
      "Best Hyperparameters: {'max_depth': None, 'max_features': 'sqrt', 'min_samples_leaf': 1, 'min_samples_split': 2, 'n_estimators': 200}\n",
      "Mean Squared Error (MSE): 0.35843511537363754\n",
      "Root Mean Squared Error (RMSE): 0.5986945092228904\n"
     ]
    }
   ],
   "source": [
    "#improvement\n",
    "from sklearn.model_selection import GridSearchCV\n",
    "from sklearn.ensemble import RandomForestRegressor\n",
    "from sklearn.metrics import mean_squared_error\n",
    "\n",
    "# Initialize the Random Forest Regressor\n",
    "rf_regressor = RandomForestRegressor(random_state=42)\n",
    "\n",
    "# Define a grid of hyperparameters to search\n",
    "param_grid = {\n",
    "    'n_estimators': [50, 100, 200],      # Number of trees in the forest\n",
    "    'max_depth': [None, 10, 20, 30],     # Maximum depth of the trees\n",
    "    'min_samples_split': [2, 5, 10],    # Minimum number of samples required to split an internal node\n",
    "    'min_samples_leaf': [1, 2, 4],      # Minimum number of samples required to be at a leaf node\n",
    "    'max_features': ['auto', 'sqrt', 'log2']  # Number of features to consider for the best split\n",
    "}\n",
    "\n",
    "# Create a GridSearchCV object with the regressor and parameter grid\n",
    "grid_search = GridSearchCV(estimator=rf_regressor, param_grid=param_grid, \n",
    "                           scoring='neg_mean_squared_error', cv=5, verbose=1)\n",
    "\n",
    "# Fit the grid search to the data\n",
    "grid_search.fit(train_features, train_labels)\n",
    "\n",
    "# Get the best hyperparameters from the grid search\n",
    "best_params = grid_search.best_params_\n",
    "best_rf_regressor = grid_search.best_estimator_\n",
    "\n",
    "# Predict on the test set using the best model\n",
    "rf_predictions = best_rf_regressor.predict(test_features)\n",
    "\n",
    "# Calculate MSE and RMSE using the best model\n",
    "mse = mean_squared_error(test_labels, rf_predictions)\n",
    "rmse = mse ** 0.5\n",
    "\n",
    "print(\"Best Hyperparameters:\", best_params)\n",
    "print(f\"Mean Squared Error (MSE): {mse}\")\n",
    "print(f\"Root Mean Squared Error (RMSE): {rmse}\")"
   ]
  },
  {
   "cell_type": "code",
   "execution_count": 16,
   "id": "0441dd81-59b0-4f5c-b874-fac7cdbe1e07",
   "metadata": {},
   "outputs": [
    {
     "name": "stdout",
     "output_type": "stream",
     "text": [
      "Fitting 5 folds for each of 36 candidates, totalling 180 fits\n",
      "Best Hyperparameters: {'C': 10, 'epsilon': 0.1, 'kernel': 'rbf'}\n",
      "Mean Squared Error (MSE): 0.36341647941907074\n",
      "Root Mean Squared Error (RMSE): 0.6028403432245313\n"
     ]
    }
   ],
   "source": [
    "from sklearn.svm import SVR\n",
    "from sklearn.model_selection import GridSearchCV\n",
    "from sklearn.metrics import mean_squared_error\n",
    "\n",
    "# Initialize the SVR\n",
    "svr_regressor = SVR()\n",
    "\n",
    "# Define a grid of hyperparameters to search\n",
    "param_grid = {\n",
    "    'kernel': ['linear', 'poly', 'rbf', 'sigmoid'],  # Kernel function\n",
    "    'C': [0.1, 1, 10],  # Regularization parameter\n",
    "    'epsilon': [0.01, 0.1, 0.2],  # Epsilon parameter for epsilon-SVR\n",
    "}\n",
    "\n",
    "# Create a GridSearchCV object with the regressor and parameter grid\n",
    "grid_search = GridSearchCV(estimator=svr_regressor, param_grid=param_grid,\n",
    "                           scoring='neg_mean_squared_error', cv=5, verbose=1)\n",
    "\n",
    "# Fit the grid search to the data\n",
    "grid_search.fit(train_features, train_labels)\n",
    "\n",
    "# Get the best hyperparameters from the grid search\n",
    "best_params = grid_search.best_params_\n",
    "best_svr_regressor = grid_search.best_estimator_\n",
    "\n",
    "# Predict on the test set using the best model\n",
    "svr_predictions = best_svr_regressor.predict(test_features)\n",
    "\n",
    "# Calculate MSE and RMSE using the best model\n",
    "mse = mean_squared_error(test_labels, svr_predictions)\n",
    "rmse = mse ** 0.5\n",
    "\n",
    "print(\"Best Hyperparameters:\", best_params)\n",
    "print(f\"Mean Squared Error (MSE): {mse}\")\n",
    "print(f\"Root Mean Squared Error (RMSE): {rmse}\")\n"
   ]
  },
  {
   "cell_type": "code",
   "execution_count": 17,
   "id": "067ac341-e290-4b19-814d-d8e425f7e312",
   "metadata": {},
   "outputs": [
    {
     "name": "stdout",
     "output_type": "stream",
     "text": [
      "Mean Squared Error (MSE) with PCA: 0.4387645628826117\n",
      "Root Mean Squared Error (RMSE) with PCA: 0.6623930576950604\n"
     ]
    }
   ],
   "source": [
    "#improve RF with PCA\n",
    "from sklearn.decomposition import PCA\n",
    "from sklearn.ensemble import RandomForestRegressor\n",
    "from sklearn.metrics import mean_squared_error\n",
    "\n",
    "# Initialize the PCA with the desired number of components\n",
    "n_components = 50  # Adjust this number as needed\n",
    "pca = PCA(n_components=n_components, random_state=42)\n",
    "\n",
    "# Fit PCA to the training features and transform both the training and test features\n",
    "train_features_pca = pca.fit_transform(train_features)\n",
    "test_features_pca = pca.transform(test_features)\n",
    "\n",
    "# Initialize the Random Forest Regressor\n",
    "rf_regressor = RandomForestRegressor(n_estimators=100, random_state=42)\n",
    "\n",
    "# Train the model using the PCA-transformed features\n",
    "rf_regressor.fit(train_features_pca, train_labels)\n",
    "\n",
    "# Predict on the test set using the PCA-transformed features\n",
    "rf_predictions_pca = rf_regressor.predict(test_features_pca)\n",
    "\n",
    "# Evaluate the model using Mean Squared Error (MSE) and Root Mean Squared Error (RMSE)\n",
    "mse_pca = mean_squared_error(test_labels, rf_predictions_pca)\n",
    "rmse_pca = mse_pca ** 0.5\n",
    "\n",
    "print(f\"Mean Squared Error (MSE) with PCA: {mse_pca}\")\n",
    "print(f\"Root Mean Squared Error (RMSE) with PCA: {rmse_pca}\")"
   ]
  },
  {
   "cell_type": "code",
   "execution_count": null,
   "id": "c40da0c8-fcfa-4b80-a4c7-662006c38044",
   "metadata": {},
   "outputs": [],
   "source": []
  }
 ],
 "metadata": {
  "kernelspec": {
   "display_name": "Python 3 (ipykernel)",
   "language": "python",
   "name": "python3"
  },
  "language_info": {
   "codemirror_mode": {
    "name": "ipython",
    "version": 3
   },
   "file_extension": ".py",
   "mimetype": "text/x-python",
   "name": "python",
   "nbconvert_exporter": "python",
   "pygments_lexer": "ipython3",
   "version": "3.11.6"
  }
 },
 "nbformat": 4,
 "nbformat_minor": 5
}
